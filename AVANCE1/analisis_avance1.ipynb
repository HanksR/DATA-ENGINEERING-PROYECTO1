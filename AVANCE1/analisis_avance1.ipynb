{
 "cells": [
  {
   "cell_type": "markdown",
   "id": "41cda538",
   "metadata": {},
   "source": [
    "## **PI 2**  "
   ]
  },
  {
   "cell_type": "markdown",
   "id": "c2f39871",
   "metadata": {},
   "source": [
    "### ¿Cuáles fueron los 5 productos más vendidos (por cantidad total)? \n",
    "![Ventas por país](./ImagenesA1/A1.1.PNG)"
   ]
  },
  {
   "cell_type": "markdown",
   "id": "e36fc6ca",
   "metadata": {},
   "source": [
    "### ¿Cuál fue el vendedor que más unidades vendió de cada uno? \n",
    "![Ventas por país](./ImagenesA1/A1.2.PNG)"
   ]
  },
  {
   "cell_type": "markdown",
   "id": "fc1bf637",
   "metadata": {},
   "source": [
    "**¿Hay algún vendedor que aparece más de una vez como el que más vendió un producto?**  \n",
    "#####  \n",
    "Sí, efectivamente. **Devon Brewer** destaca como el único vendedor que aparece **dos veces** entre los productos con mayores ventas.  \n",
    "En conjunto, sus ventas alcanzan un total de **21,620 unidades**.  \n",
    "#####\n",
    "\n",
    "**¿Alguno de estos vendedores representa más del 10 % de las ventas de un producto?**  \n",
    "#####  \n",
    "Al analizar los datos, observamos que **ningún vendedor individual supera el 10 %** de las ventas de su respectivo producto.  \n",
    "\n",
    "Sin embargo, si consideramos únicamente los **cinco productos más vendidos**, las ventas de **Devon Brewer (21,620)** sobre el **total de 199,724 unidades** representan aproximadamente **10.82 %**, superando así este umbral dentro de ese subconjunto específico.  \n",
    "#####\n"
   ]
  },
  {
   "cell_type": "markdown",
   "id": "ce2a3b58",
   "metadata": {},
   "source": [
    "### Entre los 5 productos más vendidos, ¿cuántos clientes únicos compraron cada uno y qué proporción representa sobre el total de clientes?\n",
    "![Ventas por país](./ImagenesA1/A1.3.PNG)"
   ]
  },
  {
   "cell_type": "markdown",
   "id": "c1db4777",
   "metadata": {},
   "source": [
    "**Análisis de adopción y dependencia por segmento de clientes**  \n",
    "#####  \n",
    "Al observar los resultados, notamos que los **cinco productos más vendidos** presentan un **porcentaje de aceptación promedio cercano al 14 %**, lo que indica que las ventas estuvieron **bien distribuidas entre los clientes**.  \n",
    "Esto sugiere que **no hubo un grupo reducido** responsable de generar un volumen desproporcionado de ventas.  \n",
    "\n",
    "Además, al revisar la tabla correspondiente, se aprecia que **ninguno de estos productos pertenece a la misma categoría**, lo que refuerza la idea de que **no existe dependencia de un segmento específico de clientes**, sino una adopción más equilibrada a lo largo de diferentes tipos de consumidores.  \n",
    "#####\n",
    "\n"
   ]
  },
  {
   "cell_type": "markdown",
   "id": "6d993607",
   "metadata": {},
   "source": [
    "## **PI 3**  "
   ]
  },
  {
   "cell_type": "markdown",
   "id": "2968d44f",
   "metadata": {},
   "source": [
    "### ¿A qué categorías pertenecen los 5 productos más vendidos y qué proporción representan dentro del total de unidades vendidas de su categoría?\n",
    "![Ventas por país](./ImagenesA1/A1.4.PNG)"
   ]
  },
  {
   "cell_type": "markdown",
   "id": "707c1c04",
   "metadata": {},
   "source": [
    "**Comparación de la relevancia de los productos dentro de su categoría (funciones de ventana)**  \n",
    "#####  \n",
    "A pesar de que estos productos se encuentran entre los **más vendidos a nivel general**, su **porcentaje dentro de sus respectivas categorías** resulta **relativamente bajo**.  \n",
    "Esto indica que, aunque destacan en el ranking global, **no dominan de manera significativa dentro de su propio segmento**, lo que sugiere una **distribución más equilibrada de ventas entre los productos de cada categoría**.  \n",
    "#####\n",
    "\n"
   ]
  },
  {
   "cell_type": "markdown",
   "id": "4fd362df",
   "metadata": {},
   "source": [
    "### ¿Cuáles son los 10 productos con mayor cantidad de unidades vendidas en todo el catálogo y cuál es su posición dentro de su propia categoría?\n",
    "![Ventas por país](./ImagenesA1/A1.5.PNG)\n"
   ]
  },
  {
   "cell_type": "markdown",
   "id": "c8d6f170",
   "metadata": {},
   "source": [
    "\n",
    "**Análisis de liderazgo y concentración de ventas por categoría**  \n",
    "#####  \n",
    "Se observa que en las categorías **Snails**, **Meat** y **Poultry**, las ventas de los productos ubicados en el **primer y segundo puesto del ranking** son **muy similares**, lo que indica una **competencia estrecha** dentro de estos segmentos.  \n",
    "\n",
    "Además, se presenta un **empate en el ranking global** entre las categorías **Snails** y **Produce**.  \n",
    "Aunque **Seafood** cuenta con el **producto más vendido en general**, la categoría **Snails** es la que muestra **mayor presencia dentro del Top 10**, reflejando una **concentración más equilibrada y consistente** de ventas entre sus productos destacados.  \n",
    "#####\n"
   ]
  }
 ],
 "metadata": {
  "language_info": {
   "name": "python"
  }
 },
 "nbformat": 4,
 "nbformat_minor": 5
}
