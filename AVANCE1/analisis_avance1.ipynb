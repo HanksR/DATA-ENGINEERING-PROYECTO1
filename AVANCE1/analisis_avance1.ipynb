{
 "cells": [
  {
   "cell_type": "markdown",
   "id": "c2f39871",
   "metadata": {},
   "source": [
    "### ¿Cuáles fueron los 5 productos más vendidos (por cantidad total)? \n",
    "![Ventas por país](./ImagenesA1/A1.1.PNG)"
   ]
  },
  {
   "cell_type": "markdown",
   "id": "e36fc6ca",
   "metadata": {},
   "source": [
    "### ¿Cuál fue el vendedor que más unidades vendió de cada uno? \n",
    "![Ventas por país](./ImagenesA1/A1.2.PNG)"
   ]
  },
  {
   "cell_type": "markdown",
   "id": "fc1bf637",
   "metadata": {},
   "source": [
    "**¿Hay algún vendedor que aparece más de una vez como el que más vendió un producto?**\n",
    "#####\n",
    "Si, por supuesto. Devon Brewer vendio 2 productos top (los que se vendieron mas), sus ventas totales sumas 21,620\n",
    "####\n",
    "\n",
    "**¿Algunos de estos vendedores representan más del 10% de la ventas de este producto?**\n",
    "#####\n",
    "Como podemos notar, ninguno supero el 10% de la ventas de ese producto, pero si hago enfasis en que las  ventas de Devon Brewer (21,620) sobre el total de ventas (199,724) , considerando solo estos productos mas vendidos (5) superarian el 10.824%\n",
    "####"
   ]
  },
  {
   "cell_type": "markdown",
   "id": "ce2a3b58",
   "metadata": {},
   "source": [
    "### Entre los 5 productos más vendidos, ¿cuántos clientes únicos compraron cada uno y qué proporción representa sobre el total de clientes?\n",
    "![Ventas por país](./ImagenesA1/A1.3.PNG)"
   ]
  },
  {
   "cell_type": "markdown",
   "id": "c1db4777",
   "metadata": {},
   "source": [
    "**Analiza si ese porcentaje sugiere que el producto fue ampliamente adoptado entre los clientes o si, por el contrario, fue comprado por un grupo reducido que generó un volumen alto de ventas. Compara los porcentajes entre productos e identifica si alguno de ellos depende más de un segmento específico de clientes**\n",
    "\n",
    "####\n",
    "Como podemos notar estos 5 produtos mas vendidos tuvieron un porcentaje de aceptacion alrededor del 14%, por lo que no hubo un grupo reducido que generó un volumen alto de ventas, en la siguiente tabla notaremos que ninguno de estos pertenece a la misma categoria de productos, por lo que no depende de un segmento específico de clientes.\n",
    "####\n"
   ]
  },
  {
   "cell_type": "markdown",
   "id": "2968d44f",
   "metadata": {},
   "source": [
    "### ¿A qué categorías pertenecen los 5 productos más vendidos y qué proporción representan dentro del total de unidades vendidas de su categoría?\n",
    "![Ventas por país](./ImagenesA1/A1.4.PNG)"
   ]
  },
  {
   "cell_type": "markdown",
   "id": "707c1c04",
   "metadata": {},
   "source": [
    "**Utiliza funciones de ventana para comparar la relevancia de cada producto dentro de su propia categoría.**\n",
    "\n",
    "####\n",
    "Apesar de ser los productos mas vendidos, podemos notar que su porcentaje dentro de su categoria es muy bajo.\n",
    "####\n"
   ]
  },
  {
   "cell_type": "markdown",
   "id": "4fd362df",
   "metadata": {},
   "source": [
    "### ¿Cuáles son los 10 productos con mayor cantidad de unidades vendidas en todo el catálogo y cuál es su posición dentro de su propia categoría?\n",
    "![Ventas por país](./ImagenesA1/A1.5.PNG)\n"
   ]
  },
  {
   "cell_type": "markdown",
   "id": "c8d6f170",
   "metadata": {},
   "source": [
    "\n",
    "**Analiza si estos productos son también los líderes dentro de sus categorías o si compiten estrechamente con otros productos de alto rendimiento. ¿Qué observas sobre la concentración de ventas dentro de algunas categorías?**\n",
    "#####\n",
    "Se puede notar que las ventas en las categoria Snails, Meat, Poultry del primer y segundo puesto de su Ranking son muy cercanas (compiten estrechamente), tambien se puede notar un enpate en el ranking global entre las categorias de Snail y Produce. Si bien es cierto que Seafood tiene el prodcuto mas vendido, si consideraramos la categoria con mas participacion en el Top 10 esta seria Snails.\n",
    "####"
   ]
  }
 ],
 "metadata": {
  "language_info": {
   "name": "python"
  }
 },
 "nbformat": 4,
 "nbformat_minor": 5
}
