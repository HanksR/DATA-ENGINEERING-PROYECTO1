{
 "cells": [
  {
   "cell_type": "markdown",
   "id": "76782406",
   "metadata": {},
   "source": [
    "## **PI 4: Optimización**\n",
    "### Selecciona dos consultas del avance 1 y crea los índices que consideres más adecuados para optimizar su ejecución.\n",
    "#####\n",
    "Consulta realizada sin Indices - Question 2 :  23 seg  -> 5.9 Sseg\n",
    "####\n",
    "![Ventas por país](./ImagenesA2/A2.1.PNG)\n",
    "#####\n",
    "Consulta realizada con Indices agrupados en (ProductID, SalesPersonID, Quantity) - 5.9 seg  ->  1.7 seg\n",
    "####\n",
    "![Ventas por país](./ImagenesA2/A2.1_op.PNG)"
   ]
  },
  {
   "cell_type": "markdown",
   "id": "ce14dcd2",
   "metadata": {},
   "source": [
    "#### **Evaluación del impacto de los índices en el rendimiento** ####  \n",
    "\n",
    "Se realizaron pruebas utilizando **índices individuales y compuestos**, aplicados de acuerdo con la **lógica y necesidades específicas de cada consulta**.  \n",
    "Posteriormente, se **volvieron a ejecutar ambas consultas** para comparar los **tiempos de ejecución antes y después** de implementar los índices.  \n",
    "\n",
    "Los resultados muestran una **mejora significativa en el rendimiento**, especialmente en consultas con **filtros frecuentes**, **cláusulas JOIN** y **búsquedas por columnas clave**.  \n",
    "En general, los índices resultan **más efectivos** cuando se aplican sobre **columnas utilizadas regularmente en condiciones de filtrado (`WHERE`)**, **ordenamiento (`ORDER BY`)** o **relaciones (`JOIN`)**, optimizando el acceso a los datos y reduciendo el tiempo de respuesta.  \n",
    "#####\n",
    "\n",
    "\n"
   ]
  },
  {
   "cell_type": "markdown",
   "id": "0ebbc8b6",
   "metadata": {},
   "source": [
    "## **Análisis**  \n",
    "#####  \n",
    "Lo primero que podemos observar es que **no siempre es necesario crear índices** para optimizar el tiempo de ejecución de una consulta.  \n",
    "En el **avance 1 - Question 2**, se obtuvo un tiempo aproximado de **23 segundos**. En esta etapa, se mejoró la consulta **sin aplicar índices**, lo que permitió reducir el tiempo de ejecución de manera significativa.  \n",
    "#####  \n",
    "Como vimos en clase, la cláusula **`GROUP BY`** puede resultar **costosa en términos de rendimiento**. En este caso, se optimizó el agrupamiento pasando de:  \n",
    "`GROUP BY s.ProductID, p.ProductName, s.SalesPersonID, e.FirstName, e.LastName`  \n",
    "a una versión más eficiente:  \n",
    "`GROUP BY s.ProductID, s.SalesPersonID`  \n",
    "Gracias a este cambio, el tiempo de ejecución se redujo de **23 segundos a 5.9 segundos** (*ver Figura 1*).  \n",
    "#####  \n",
    "Una vez optimizado el código (todavía sin aplicar índices), se identificaron las **columnas con mayor carga de procesamiento**, específicamente **`SalesPersonID`** y **`Quantity`**, ya que **no son llaves primarias**.  \n",
    "Se crearon índices tanto **individuales** como **compuestos**, aunque la mejora obtenida no fue muy significativa.  \n",
    "\n",
    "Sin embargo, se observó que, aunque **`ProductID`** es una llave primaria en la tabla **`Products`**, **MySQL requiere un índice propio** en **`Sales(ProductID)`** para **agrupar o filtrar eficientemente** por esa columna.  \n",
    "Es importante destacar que **los índices no se heredan ni se comparten entre tablas**: cada una debe contar con los suyos según las operaciones que se realicen sobre ella.  \n",
    "\n",
    "Tras crear este índice en **`ProductID`**, el tiempo de ejecución se redujo de **5.9 segundos a 1.7 segundos**, representando una **mejora significativa en el rendimiento general**.  \n",
    "#####\n"
   ]
  },
  {
   "cell_type": "markdown",
   "id": "78108d73",
   "metadata": {},
   "source": [
    "####\n",
    "CREATE INDEX idx_sales_product\n",
    "ON sales (SalesPersonID, Quantity);  \n",
    "####\n",
    "####\n",
    "* Indices creados demoro 9.5 seg \n",
    "-- El tiempo de consulta paso de  5.9 seg   ->  5.4 seg\n",
    "####\n",
    "\n",
    "####\n",
    "CREATE INDEX idx_sales_product\n",
    "ON sales (SalesPersonID);\n",
    "####\n",
    "####\n",
    "* Indice creados demoro  8.3 seg \n",
    "-- El tiempo de consulta paso de  5.9 seg   ->  5.5 seg\n",
    "####\n",
    "\n",
    "####\n",
    "CREATE INDEX idx_sales_product\n",
    "ON sales (Quantity);\n",
    "####\n",
    "####\n",
    "* Indice creados demoro  8.3 seg \n",
    "-- El tiempo de consulta paso de  5.9 seg   ->  5.3 seg\n",
    "####\n",
    "\n",
    "####\n",
    "CREATE INDEX idx_sales_product_salesperson_qty\n",
    "ON sales (ProductID, SalesPersonID, Quantity);\n",
    "####\n",
    "####\n",
    "* Indices creados demoraron 11 seg \n",
    "-- El tiempo de consulta paso de  5.9 seg   ->  1.7 seg\n",
    "####"
   ]
  },
  {
   "cell_type": "markdown",
   "id": "a2fd0bdf",
   "metadata": {},
   "source": [
    "\n",
    "\n",
    "#####\n",
    "Consulta realizada sin Indices - Question 3 :  27seg -> 18 seg\n",
    "####\n",
    "![Ventas por país](./ImagenesA2/A2.2.PNG)\n",
    "#####\n",
    "Consulta realizada con Indices agrupados en (ProductID, CustomerID, Quantity)\n",
    "####\n",
    "![Ventas por país](./ImagenesA2/A2.2_op.PNG)"
   ]
  },
  {
   "cell_type": "markdown",
   "id": "71868cc7",
   "metadata": {},
   "source": [
    "\n",
    "####\n",
    "Elegi el índice compuesto (ProductID, CustomerID, Quantity) porque la consulta agrupa y filtra principalmente por ProductID y necesita contar clientes únicos (CustomerID) dentro de cada producto. También se incluye Quantity, para optimizar el cálculo de unidades vendidas sin acceder a la tabla completa. \n",
    "####\n",
    "####\n",
    "CREATE INDEX idx_sales_product\n",
    "ON sales (ProductID, CustomerID, Quantity);\n",
    "####\n",
    "####\n",
    "* Indices creados demoro 10 seg \n",
    "-- El tiempo de consulta paso de  18 seg   ->  3.4 seg\n",
    "####"
   ]
  },
  {
   "cell_type": "markdown",
   "id": "90c01b3d",
   "metadata": {},
   "source": [
    "## **PI 2: Trigger**  \n",
    "### Crea un trigger que registre en una tabla de monitoreo cada vez que un producto supere las 200.000 unidades vendidas acumuladas.\n",
    "#####\n",
    "Mostramos las cantidades vendidas actuales por productos\n",
    "####\n",
    "![Ventas por país](./ImagenesA2/A3.1.PNG)\n",
    "####\n",
    "\n",
    "## **PI 3: Registro**  \n",
    "\n",
    "#####\n",
    "Creamos la tabla de monitoreo (sin accion)\n",
    "####\n",
    "![Ventas por país](./ImagenesA2/A3.2.PNG)\n",
    "#####\n",
    "Tabla de monitoreo trabajando con Trigger\n",
    "####\n",
    "![Ventas por país](./ImagenesA2/A3.3.PNG)\n",
    "####"
   ]
  },
  {
   "cell_type": "markdown",
   "id": "1ab6ff72",
   "metadata": {},
   "source": [
    "#### **Función del trigger de monitoreo** ####  \n",
    "\n",
    "El **trigger** implementado cumple una función de **monitoreo automático**, permitiendo **detectar en tiempo real** cuándo un producto supera un **umbral de ventas significativo** (200 000 unidades).  \n",
    "\n",
    "El sistema se activa **tras el registro de una nueva venta**, actualizando automáticamente la información correspondiente en el archivo **`sales.csv`**, lo que garantiza un **seguimiento continuo y preciso del rendimiento de los productos**.  \n",
    "#####\n"
   ]
  },
  {
   "cell_type": "markdown",
   "id": "f6420131",
   "metadata": {},
   "source": [
    "DIAGRAMA DE TABLAS\n",
    "####\n",
    "![Ventas por país](./ImagenesA2/A3.4.PNG)\n",
    "####\n",
    "####\n",
    "Podemos observar como se actualizo y se relaciono mediante clave forranea nuestra nueva tabla de monitoreo\n",
    "####"
   ]
  }
 ],
 "metadata": {
  "language_info": {
   "name": "python"
  }
 },
 "nbformat": 4,
 "nbformat_minor": 5
}
