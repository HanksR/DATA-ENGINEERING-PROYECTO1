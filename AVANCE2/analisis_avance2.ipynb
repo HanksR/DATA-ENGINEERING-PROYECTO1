{
 "cells": [
  {
   "cell_type": "markdown",
   "id": "76782406",
   "metadata": {},
   "source": [
    "# Optimización\n",
    "### Selecciona dos consultas del avance 1 y crea los índices que consideres más adecuados para optimizar su ejecución.\n",
    "#####\n",
    "Consulta realizada sin Indices - Question 2 :  23 seg  -> 5.9 Sseg\n",
    "####\n",
    "![Ventas por país](./ImagenesA2/A2.1.PNG)\n",
    "#####\n",
    "Consulta realizada con Indices agrupados en (ProductID, SalesPersonID, Quantity) - 5.9 seg  ->  1.7 seg\n",
    "####\n",
    "![Ventas por país](./ImagenesA2/A2.1_op.PNG)"
   ]
  },
  {
   "cell_type": "markdown",
   "id": "ce14dcd2",
   "metadata": {},
   "source": [
    "#### Prueba con índices individuales y compuestos, según la lógica de cada consulta. Luego, vuelve a ejecutar ambas consultas y compara los tiempos de ejecución antes y después de aplicar los índices. Finalmente, describe brevemente el impacto que tuvieron los índices en el rendimiento y en qué tipo de columnas resultan más efectivos para este tipo de operaciones.\n",
    "\n"
   ]
  },
  {
   "cell_type": "markdown",
   "id": "0ebbc8b6",
   "metadata": {},
   "source": [
    "## Analisis\n",
    "####\n",
    "Lo primero que podemos observar es que no es necesario crear indices para poder optimizar el tiempo de la consulta, en el avanze 1 - Question2 se determino un tiempo de 23 seg, lo que hicimos aqui fue mejorar esta consulta (aun sin aplicar indices).\n",
    "####\n",
    "Segun lo que vimos en clase, GROUP BY es una herramienta muy costasa, aqui nos centramos en pasar de (GROUP BY s.ProductID, p.ProductName, s.SalesPersonID, e.FirstName, e.LastName) -> (GROUP BY s.ProductID, s.SalesPersonID), lo cual nos salio aun mas rentable, esto nos permitio pasar de 23 seg -> 5.9 seg (Figura 1)\n",
    "####\n",
    "####\n",
    "Una vez optimizado el codigo (aun sin aplicar indices), me centre en observar las columnas mas desgastantes al momento de recorrer las tablas, estas fueron (SalesPersonID, Quantity) ya que no eran llaves primarias, cree indices individualmente y de forma compuesta, no se vio una mejora tan significativa, sim embargo, note que aunque ProductID sea llave primaria en products, MySQL necesita su propio índice en sales(ProductID) para agrupar o filtrar por esa columna.\n",
    "Los índices no se “heredan” ni se comparten entre tablas, cada una debe tener los suyos según las operaciones que se realizan sobre ella. \n",
    "Una vez creado este indice en ProductID, pasamos de 5.9 seg  ->  1.7 seg (algo mucho mas significativo)\n",
    "####"
   ]
  },
  {
   "cell_type": "markdown",
   "id": "78108d73",
   "metadata": {},
   "source": [
    "####\n",
    "CREATE INDEX idx_sales_product\n",
    "ON sales (SalesPersonID, Quantity);  \n",
    "####\n",
    "####\n",
    "* Indices creados demoro 9.5 seg \n",
    "-- El tiempo de consulta paso de  5.9 seg   ->  5.4 seg\n",
    "####\n",
    "\n",
    "####\n",
    "CREATE INDEX idx_sales_product\n",
    "ON sales (SalesPersonID);\n",
    "####\n",
    "####\n",
    "* Indice creados demoro  8.3 seg \n",
    "-- El tiempo de consulta paso de  5.9 seg   ->  5.5 seg\n",
    "####\n",
    "\n",
    "####\n",
    "CREATE INDEX idx_sales_product\n",
    "ON sales (Quantity);\n",
    "####\n",
    "####\n",
    "* Indice creados demoro  8.3 seg \n",
    "-- El tiempo de consulta paso de  5.9 seg   ->  5.3 seg\n",
    "####\n",
    "\n",
    "####\n",
    "CREATE INDEX idx_sales_product_salesperson_qty\n",
    "ON sales (ProductID, SalesPersonID, Quantity);\n",
    "####\n",
    "####\n",
    "* Indices creados demoraron 11 seg \n",
    "-- El tiempo de consulta paso de  5.9 seg   ->  1.7 seg\n",
    "####"
   ]
  },
  {
   "cell_type": "markdown",
   "id": "a2fd0bdf",
   "metadata": {},
   "source": [
    "\n",
    "\n",
    "#####\n",
    "Consulta realizada sin Indices - Question 3 :  27seg -> 18 seg\n",
    "####\n",
    "![Ventas por país](./ImagenesA2/A2.2.PNG)\n",
    "#####\n",
    "Consulta realizada con Indices agrupados en (ProductID, CustomerID, Quantity)\n",
    "####\n",
    "![Ventas por país](./ImagenesA2/A2.2_op.PNG)"
   ]
  },
  {
   "cell_type": "markdown",
   "id": "71868cc7",
   "metadata": {},
   "source": [
    "# Analisis\n",
    "\n",
    "####\n",
    "Elegi el índice compuesto (ProductID, CustomerID, Quantity) porque la consulta agrupa y filtra principalmente por ProductID y necesita contar clientes únicos (CustomerID) dentro de cada producto. También se incluye Quantity, para optimizar el cálculo de unidades vendidas sin acceder a la tabla completa. \n",
    "####\n",
    "####\n",
    "CREATE INDEX idx_sales_product\n",
    "ON sales (ProductID, CustomerID, Quantity);\n",
    "####\n",
    "####\n",
    "* Indices creados demoro 10 seg \n",
    "-- El tiempo de consulta paso de  18 seg   ->  3.4 seg\n",
    "####"
   ]
  },
  {
   "cell_type": "markdown",
   "id": "90c01b3d",
   "metadata": {},
   "source": [
    "# Trigger\n",
    "### Crea un trigger que registre en una tabla de monitoreo cada vez que un producto supere las 200.000 unidades vendidas acumuladas.\n",
    "#####\n",
    "Mostramos las cantidades vendidas actuales por productos\n",
    "####\n",
    "![Ventas por país](./ImagenesA2/A3.1.PNG)\n",
    "####\n",
    "#####\n",
    "Creamos la tabla de monitoreo (sin accion)\n",
    "####\n",
    "![Ventas por país](./ImagenesA2/A3.2.PNG)\n",
    "#####\n",
    "Tabla de monitoreo trabajando con Trigger\n",
    "####\n",
    "![Ventas por país](./ImagenesA2/A3.3.PNG)\n",
    "####"
   ]
  },
  {
   "cell_type": "markdown",
   "id": "1ab6ff72",
   "metadata": {},
   "source": [
    "# Analisis\n",
    "\n",
    "####\n",
    "El trigger creado cumple una función de monitoreo automático que permite detectar en tiempo real cuándo un producto supera un umbral de ventas significativo (200 000 unidades). El sistema responde luego de que se registre una nueva venta la cual se inserta en sales.csv.\n",
    "####"
   ]
  },
  {
   "cell_type": "markdown",
   "id": "f6420131",
   "metadata": {},
   "source": [
    "DIAGRAMA DE TABLAS\n",
    "####\n",
    "![Ventas por país](./ImagenesA2/A3.4.PNG)\n",
    "####\n",
    "####\n",
    "Podemos observar como se actualizo y se relaciono mediante clave forranea nuestra nueva tabla de monitoreo\n",
    "####"
   ]
  }
 ],
 "metadata": {
  "language_info": {
   "name": "python"
  }
 },
 "nbformat": 4,
 "nbformat_minor": 5
}
