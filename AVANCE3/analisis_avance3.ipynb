{
 "cells": [
  {
   "cell_type": "markdown",
   "id": "6ddde801",
   "metadata": {},
   "source": [
    "# Cargamos los Datos"
   ]
  },
  {
   "cell_type": "code",
   "execution_count": 22,
   "id": "991008ff",
   "metadata": {},
   "outputs": [],
   "source": [
    "import pandas as pd\n",
    "import numpy as np\n",
    "import matplotlib.pyplot as plt\n",
    "\n",
    "base_path = r\"C:\\Users\\Mi Pc\\Documents\\IntegradorProject\" \n"
   ]
  },
  {
   "cell_type": "code",
   "execution_count": null,
   "id": "410712b2",
   "metadata": {},
   "outputs": [
    {
     "name": "stdout",
     "output_type": "stream",
     "text": [
      "Cargadas tablas pequeñas. Filas:  products: 452 employees: 23 categories: 11\n"
     ]
    }
   ],
   "source": [
    "# Primero cargo las tablas pequeñas \n",
    "products   = pd.read_csv(f\"{base_path}\\\\products.csv\")\n",
    "employees  = pd.read_csv(f\"{base_path}\\\\employees.csv\")\n",
    "customers  = pd.read_csv(f\"{base_path}\\\\customers.csv\")\n",
    "cities     = pd.read_csv(f\"{base_path}\\\\cities.csv\")\n",
    "countries  = pd.read_csv(f\"{base_path}\\\\countries.csv\")\n",
    "categories = pd.read_csv(f\"{base_path}\\\\categories.csv\")\n",
    "\n",
    "# Aseguro tipos básicos\n",
    "products['Price'] = pd.to_numeric(products['Price'], errors='coerce')\n",
    "employees['BirthDate'] = pd.to_datetime(employees['BirthDate'], errors='coerce')\n",
    "employees['HireDate']  = pd.to_datetime(employees['HireDate'], errors='coerce')\n"
   ]
  },
  {
   "cell_type": "markdown",
   "id": "662794b5",
   "metadata": {},
   "source": [
    "#### Usaremos chunks para cargar los datos de \"Sales\" ya que es muy voluminoso ####\n",
    "##### He aprovechado el proceso de cargado de datos para crear a la par una nueva column la cual incluya 'TotalPriceCalculated' lo cual considero es mas rentable para el desgaste de memoria #####"
   ]
  },
  {
   "cell_type": "code",
   "execution_count": 47,
   "id": "fa542476",
   "metadata": {},
   "outputs": [
    {
     "name": "stdout",
     "output_type": "stream",
     "text": [
      " Archivo 'sales' cargado con 6,758,125 filas totales.\n"
     ]
    }
   ],
   "source": [
    "\n",
    "# Tamaño de bloque para leer el CSV por partes\n",
    "chunk_size = 100_000\n",
    "chunks = []\n",
    "\n",
    "# Para no saturar memoria\n",
    "for i, chunk in enumerate(pd.read_csv(f\"{base_path}\\\\sales.csv\", chunksize=chunk_size)):\n",
    "\n",
    "    # Asegurar que las columnas numéricas estén limpias\n",
    "    chunk['Quantity'] = pd.to_numeric(chunk['Quantity'], errors='coerce').fillna(0)\n",
    "    chunk['Discount'] = pd.to_numeric(chunk['Discount'], errors='coerce').fillna(0)\n",
    "\n",
    "    # Traer el precio unitario desde la tabla de productos\n",
    "    chunk = chunk.merge(products[['ProductID', 'Price']], on='ProductID', how='left')\n",
    "\n",
    "    # Calcular el valor total real de cada venta\n",
    "    chunk['Price'] = pd.to_numeric(chunk['Price'], errors='coerce').fillna(0)\n",
    "    chunk['TotalPriceCalculated'] = (chunk['Quantity'] * chunk['Price']) * (1 - chunk['Discount'])\n",
    "\n",
    "    # Guardar el bloque procesado\n",
    "    chunks.append(chunk)\n",
    "\n",
    "# Unir todos los bloques en un solo DataFrame\n",
    "sales = pd.concat(chunks, ignore_index=True)\n",
    "print(f\" Archivo 'sales' cargado con {len(sales):,} filas totales.\")\n"
   ]
  },
  {
   "cell_type": "markdown",
   "id": "86b4dc66",
   "metadata": {},
   "source": [
    "# Estructuracción de Datos"
   ]
  },
  {
   "cell_type": "markdown",
   "id": "97306edc",
   "metadata": {},
   "source": [
    "#### Vamos a analizar los datos que tenemos almancenados en las tablas guardadas ####"
   ]
  },
  {
   "cell_type": "code",
   "execution_count": 17,
   "id": "a3e0a375",
   "metadata": {},
   "outputs": [
    {
     "name": "stdout",
     "output_type": "stream",
     "text": [
      "   SalesID  SalesPersonID  CustomerID  ProductID  Quantity  Discount  \\\n",
      "0        1              6       27039        381         7       0.0   \n",
      "1        2             16       25011         61         7       0.0   \n",
      "2        3             13       94024         23        24       0.0   \n",
      "3        4              8       73966        176        19       0.2   \n",
      "4        5             10       32653        310         9       0.0   \n",
      "\n",
      "   TotalPrice                SalesDate     TransactionNumber    Price  \\\n",
      "0         0.0  2018-02-05 07:38:25.430  FQL4S94E4ME1EZFTG42G  44.2337   \n",
      "1         0.0  2018-02-02 16:03:31.150  12UGLX40DJ1A5DTFBHB8  62.5460   \n",
      "2         0.0  2018-05-03 19:31:56.880  5DT8RCPL87KI5EORO7B0  79.0184   \n",
      "3         0.0  2018-04-07 14:43:55.420  R3DR9MLD5NR76VO17ULE  81.3167   \n",
      "4         0.0  2018-02-12 15:37:03.940  4BGS0Z5OMAZ8NDAFHHP3  79.9780   \n",
      "\n",
      "   TotalPriceCalculated  \n",
      "0             309.63590  \n",
      "1             437.82200  \n",
      "2            1896.44160  \n",
      "3            1236.01384  \n",
      "4             719.80200  \n"
     ]
    }
   ],
   "source": [
    "print(sales.head())"
   ]
  },
  {
   "cell_type": "code",
   "execution_count": 69,
   "id": "44057008",
   "metadata": {},
   "outputs": [
    {
     "name": "stdout",
     "output_type": "stream",
     "text": [
      "<class 'pandas.core.frame.DataFrame'>\n",
      "RangeIndex: 6758125 entries, 0 to 6758124\n",
      "Data columns (total 11 columns):\n",
      " #   Column                Dtype         \n",
      "---  ------                -----         \n",
      " 0   SalesID               int64         \n",
      " 1   EmployeeID            int64         \n",
      " 2   CustomerID            int64         \n",
      " 3   ProductID             int64         \n",
      " 4   Quantity              int64         \n",
      " 5   Discount              float64       \n",
      " 6   TotalPrice            float64       \n",
      " 7   SalesDate             datetime64[ns]\n",
      " 8   TransactionNumber     object        \n",
      " 9   Price                 float64       \n",
      " 10  TotalPriceCalculated  float64       \n",
      "dtypes: datetime64[ns](1), float64(4), int64(5), object(1)\n",
      "memory usage: 567.2+ MB\n",
      "None\n"
     ]
    }
   ],
   "source": [
    "print(sales.info())"
   ]
  },
  {
   "cell_type": "markdown",
   "id": "f33f46c6",
   "metadata": {},
   "source": [
    "#### Eliminamos la columna TotalPrice ya que no contenia datos importantes mas que 0 ####"
   ]
  },
  {
   "cell_type": "code",
   "execution_count": null,
   "id": "8f9fa246",
   "metadata": {},
   "outputs": [
    {
     "name": "stdout",
     "output_type": "stream",
     "text": [
      "ℹ️ La columna 'TotalPrice' no existe en el DataFrame.\n"
     ]
    }
   ],
   "source": [
    "sales.drop(columns=['TotalPrice'], inplace=True)"
   ]
  },
  {
   "cell_type": "markdown",
   "id": "2e7b163d",
   "metadata": {},
   "source": [
    "### Revisar nulos en Price y TotalPriceCalculated ###"
   ]
  },
  {
   "cell_type": "code",
   "execution_count": 48,
   "id": "0c60ff9f",
   "metadata": {},
   "outputs": [
    {
     "name": "stdout",
     "output_type": "stream",
     "text": [
      "Nulos en products.Price: 0  | nulos en sales.Price después merge: 0\n"
     ]
    },
    {
     "data": {
      "text/plain": [
       "count    6758125.00\n",
       "mean         638.68\n",
       "std          547.95\n",
       "min            0.00\n",
       "25%          176.94\n",
       "50%          488.37\n",
       "75%          982.16\n",
       "max         2496.89\n",
       "Name: TotalPriceCalculated, dtype: float64"
      ]
     },
     "execution_count": 48,
     "metadata": {},
     "output_type": "execute_result"
    }
   ],
   "source": [
    "\n",
    "n_price_null = products['Price'].isna().sum()\n",
    "n_sales_price_null = sales['Price'].isna().sum()\n",
    "print(\"Nulos en products.Price:\", n_price_null, \" | nulos en sales.Price después merge:\", n_sales_price_null)\n",
    "\n",
    "sales['TotalPriceCalculated'].describe().round(2)\n"
   ]
  },
  {
   "cell_type": "markdown",
   "id": "09f6d537",
   "metadata": {},
   "source": [
    "# Limpieza de datos"
   ]
  },
  {
   "cell_type": "markdown",
   "id": "72cca671",
   "metadata": {},
   "source": [
    "#### Primero empezamos unificando el nombre las tables en Sales y Employees ####"
   ]
  },
  {
   "cell_type": "code",
   "execution_count": 53,
   "id": "102fe9e2",
   "metadata": {},
   "outputs": [
    {
     "name": "stdout",
     "output_type": "stream",
     "text": [
      "Columna 'SalesPersonID' renombrada a 'EmployeeID'\n"
     ]
    },
    {
     "data": {
      "text/html": [
       "<div>\n",
       "<style scoped>\n",
       "    .dataframe tbody tr th:only-of-type {\n",
       "        vertical-align: middle;\n",
       "    }\n",
       "\n",
       "    .dataframe tbody tr th {\n",
       "        vertical-align: top;\n",
       "    }\n",
       "\n",
       "    .dataframe thead th {\n",
       "        text-align: right;\n",
       "    }\n",
       "</style>\n",
       "<table border=\"1\" class=\"dataframe\">\n",
       "  <thead>\n",
       "    <tr style=\"text-align: right;\">\n",
       "      <th></th>\n",
       "      <th>SalesID</th>\n",
       "      <th>EmployeeID</th>\n",
       "      <th>CustomerID</th>\n",
       "      <th>ProductID</th>\n",
       "      <th>Quantity</th>\n",
       "      <th>Discount</th>\n",
       "      <th>TotalPrice</th>\n",
       "      <th>SalesDate</th>\n",
       "      <th>TransactionNumber</th>\n",
       "      <th>Price</th>\n",
       "      <th>TotalPriceCalculated</th>\n",
       "    </tr>\n",
       "  </thead>\n",
       "  <tbody>\n",
       "    <tr>\n",
       "      <th>0</th>\n",
       "      <td>1</td>\n",
       "      <td>6</td>\n",
       "      <td>27039</td>\n",
       "      <td>381</td>\n",
       "      <td>7</td>\n",
       "      <td>0.0</td>\n",
       "      <td>0.0</td>\n",
       "      <td>2018-02-05 07:38:25.430</td>\n",
       "      <td>FQL4S94E4ME1EZFTG42G</td>\n",
       "      <td>44.2337</td>\n",
       "      <td>309.6359</td>\n",
       "    </tr>\n",
       "    <tr>\n",
       "      <th>1</th>\n",
       "      <td>2</td>\n",
       "      <td>16</td>\n",
       "      <td>25011</td>\n",
       "      <td>61</td>\n",
       "      <td>7</td>\n",
       "      <td>0.0</td>\n",
       "      <td>0.0</td>\n",
       "      <td>2018-02-02 16:03:31.150</td>\n",
       "      <td>12UGLX40DJ1A5DTFBHB8</td>\n",
       "      <td>62.5460</td>\n",
       "      <td>437.8220</td>\n",
       "    </tr>\n",
       "  </tbody>\n",
       "</table>\n",
       "</div>"
      ],
      "text/plain": [
       "   SalesID  EmployeeID  CustomerID  ProductID  Quantity  Discount  TotalPrice  \\\n",
       "0        1           6       27039        381         7       0.0         0.0   \n",
       "1        2          16       25011         61         7       0.0         0.0   \n",
       "\n",
       "                SalesDate     TransactionNumber    Price  TotalPriceCalculated  \n",
       "0 2018-02-05 07:38:25.430  FQL4S94E4ME1EZFTG42G  44.2337              309.6359  \n",
       "1 2018-02-02 16:03:31.150  12UGLX40DJ1A5DTFBHB8  62.5460              437.8220  "
      ]
     },
     "execution_count": 53,
     "metadata": {},
     "output_type": "execute_result"
    }
   ],
   "source": [
    "sales.rename(columns={\"SalesPersonID\": \"EmployeeID\"}, inplace=True)\n",
    "\n",
    "print(\"Columna 'SalesPersonID' renombrada a 'EmployeeID'\")\n",
    "sales.head(2)"
   ]
  },
  {
   "cell_type": "markdown",
   "id": "14676737",
   "metadata": {},
   "source": [
    "#### Convertimos los tipos de datos sino estan en formao DateTime ####"
   ]
  },
  {
   "cell_type": "code",
   "execution_count": 54,
   "id": "12ca5557",
   "metadata": {},
   "outputs": [
    {
     "data": {
      "text/plain": [
       "SalesID                          int64\n",
       "EmployeeID                       int64\n",
       "CustomerID                       int64\n",
       "ProductID                        int64\n",
       "Quantity                         int64\n",
       "Discount                       float64\n",
       "TotalPrice                     float64\n",
       "SalesDate               datetime64[ns]\n",
       "TransactionNumber               object\n",
       "Price                          float64\n",
       "TotalPriceCalculated           float64\n",
       "dtype: object"
      ]
     },
     "execution_count": 54,
     "metadata": {},
     "output_type": "execute_result"
    }
   ],
   "source": [
    "\n",
    "sales[\"SalesDate\"] = pd.to_datetime(sales[\"SalesDate\"], errors='coerce')\n",
    "employees[\"HireDate\"] = pd.to_datetime(employees[\"HireDate\"], errors='coerce')\n",
    "employees[\"BirthDate\"] = pd.to_datetime(employees[\"BirthDate\"], errors='coerce')\n",
    "\n",
    "sales.dtypes\n"
   ]
  },
  {
   "cell_type": "code",
   "execution_count": 27,
   "id": "60529c45",
   "metadata": {},
   "outputs": [
    {
     "data": {
      "text/plain": [
       "EmployeeID                int64\n",
       "FirstName                object\n",
       "MiddleInitial            object\n",
       "LastName                 object\n",
       "BirthDate        datetime64[ns]\n",
       "Gender                   object\n",
       "CityID                    int64\n",
       "HireDate         datetime64[ns]\n",
       "dtype: object"
      ]
     },
     "execution_count": 27,
     "metadata": {},
     "output_type": "execute_result"
    }
   ],
   "source": [
    "employees.dtypes"
   ]
  },
  {
   "cell_type": "markdown",
   "id": "6042ef00",
   "metadata": {},
   "source": [
    "# Validación: Detección y manejo de outliers"
   ]
  },
  {
   "cell_type": "markdown",
   "id": "3cf7b35c",
   "metadata": {},
   "source": [
    "#### Detecta los outliers en la columna de ventas totales (TotalPriceCalculated) utilizando el criterio del rango intercuartílico (IQR). Luego, crea una nueva columna llamada IsOutlier que tenga el valor 1 si el registro es un outlier y 0 en caso contrario. ¿Cuántos outliers se detectaron? ####"
   ]
  },
  {
   "cell_type": "markdown",
   "id": "51d24b3a",
   "metadata": {},
   "source": [
    "#### Empezamos calculando IQR para determinar los valores fuera del rango ####"
   ]
  },
  {
   "cell_type": "code",
   "execution_count": null,
   "id": "2e215afc",
   "metadata": {},
   "outputs": [
    {
     "name": "stdout",
     "output_type": "stream",
     "text": [
      "Outliers detectados: 48217 de 6758125 filas (0.713%)\n"
     ]
    },
    {
     "data": {
      "image/png": "[encoded data removed]",
      "text/plain": [
       "<Figure size 600x400 with 1 Axes>"
      ]
     },
     "metadata": {},
     "output_type": "display_data"
    },
    {
     "data": {
      "image/png": "[encoded data removed]",
      "text/plain": [
       "<Figure size 800x400 with 1 Axes>"
      ]
     },
     "metadata": {},
     "output_type": "display_data"
    }
   ],
   "source": [
    "\n",
    "q1 = sales['TotalPriceCalculated'].quantile(0.25)\n",
    "q3 = sales['TotalPriceCalculated'].quantile(0.75)\n",
    "iqr = q3 - q1\n",
    "\n",
    "lower = q1 - 1.5 * iqr\n",
    "upper = q3 + 1.5 * iqr\n",
    "\n",
    "# Crear (1 = outlier, 0 = normal)\n",
    "sales['IsOutlier'] = ((sales['TotalPriceCalculated'] < lower) |  (sales['TotalPriceCalculated'] > upper)).astype(int)\n",
    "\n",
    "# Cuántos registros son outliers?¿\n",
    "num_outliers = int(sales['IsOutlier'].sum())\n",
    "total = len(sales)\n",
    "\n",
    "print(f\"Outliers detectados: {num_outliers} de {total} filas ({num_outliers/total:.3%})\")\n",
    "\n",
    "# Boxplot \n",
    "plt.figure(figsize=(6,4))\n",
    "plt.boxplot(sales['TotalPriceCalculated'].replace([np.inf, -np.inf], np.nan).dropna())\n",
    "plt.title('Boxplot - TotalPriceCalculated')\n",
    "plt.ylabel('Valor de venta')\n",
    "plt.show()\n",
    "\n",
    "# Histograma \n",
    "plt.figure(figsize=(8,4))\n",
    "plt.hist(sales['TotalPriceCalculated'].replace([np.inf, -np.inf], np.nan).dropna(), bins=50)\n",
    "plt.title('Histograma - TotalPriceCalculated')\n",
    "plt.xlabel('Valor de venta')\n",
    "plt.ylabel('Frecuencia')\n",
    "plt.show()\n",
    "\n"
   ]
  },
  {
   "cell_type": "markdown",
   "id": "e8f04aee",
   "metadata": {},
   "source": [
    "***Estos registros representaban menos del 1 % del total, por lo que su eliminación no afecta significativamente la representatividad de los datos.***"
   ]
  },
  {
   "cell_type": "code",
   "execution_count": 31,
   "id": "46c1e489",
   "metadata": {},
   "outputs": [
    {
     "name": "stdout",
     "output_type": "stream",
     "text": [
      " Registros originales: 6758125\n",
      " Registros sin outliers: 6709908\n",
      " Se eliminaron 48217 outliers (0.71% del total)\n"
     ]
    }
   ],
   "source": [
    "# Filtrar los datos que NO son outliers\n",
    "sales_sin_outliers = sales[sales[\"IsOutlier\"] == 0].copy()\n",
    "\n",
    "print(f\" Registros originales: {len(sales)}\")\n",
    "print(f\" Registros sin outliers: {len(sales_sin_outliers)}\")\n",
    "print(f\" Se eliminaron {len(sales) - len(sales_sin_outliers)} outliers ({(len(sales) - len(sales_sin_outliers))/len(sales):.2%} del total)\")\n"
   ]
  },
  {
   "cell_type": "markdown",
   "id": "d2176914",
   "metadata": {},
   "source": [
    "#### Como podemos observar, después del filtrado, la distribución de las ventas muestra una dispersión más homogénea, lo que mejora la calidad del análisis posterior."
   ]
  },
  {
   "cell_type": "code",
   "execution_count": 32,
   "id": "c6383da3",
   "metadata": {},
   "outputs": [
    {
     "data": {
      "image/png": "[encoded data removed]",
      "text/plain": [
       "<Figure size 600x400 with 1 Axes>"
      ]
     },
     "metadata": {},
     "output_type": "display_data"
    }
   ],
   "source": [
    "plt.figure(figsize=(6,4))\n",
    "plt.boxplot(sales_sin_outliers['TotalPriceCalculated'].replace([np.inf, -np.inf], np.nan).dropna())\n",
    "plt.title('Boxplot - TotalPriceCalculated (sin outliers)')\n",
    "plt.ylabel('Valor de venta')\n",
    "plt.show()"
   ]
  },
  {
   "cell_type": "markdown",
   "id": "f0e30e7f",
   "metadata": {},
   "source": [
    "# Clasificación (Analisis solicitado)"
   ]
  },
  {
   "cell_type": "markdown",
   "id": "f0cd1697",
   "metadata": {},
   "source": [
    "#### A partir de la columna SalesDate, crea una nueva columna que contenga únicamente la hora de la venta. Luego, identifica en qué hora del día se concentran más ventas totales (TotalPriceCalculated). ####"
   ]
  },
  {
   "cell_type": "code",
   "execution_count": 34,
   "id": "8291b230",
   "metadata": {},
   "outputs": [
    {
     "name": "stdout",
     "output_type": "stream",
     "text": [
      " Hora con mayor volumen de ventas: 16:00 (Entre semana)\n",
      " Total vendido: 129,162,103.51 (2.99% del total)\n",
      "\n"
     ]
    }
   ],
   "source": [
    "# Extraemos la hora y día de la semana \n",
    "sales['SaleHour'] = sales['SalesDate'].dt.hour\n",
    "sales['TipoDia'] = sales['SalesDate'].dt.dayofweek.map(lambda x: 'Fin de semana' if x >= 5 else 'Entre semana')\n",
    "\n",
    "agg_data = sales.groupby(['SaleHour', 'TipoDia'], as_index=False)['TotalPriceCalculated'].sum()\n",
    "\n",
    "# Hora con mayor volumen de ventas\n",
    "top_row = agg_data.loc[agg_data['TotalPriceCalculated'].idxmax()]\n",
    "hora_top, tipo_top, ventas_top = int(top_row['SaleHour']), top_row['TipoDia'], top_row['TotalPriceCalculated']\n",
    "\n",
    "total_global = sales['TotalPriceCalculated'].sum()\n",
    "porcentaje_top = (ventas_top / total_global) * 100\n",
    "\n",
    "print(f\" Hora con mayor volumen de ventas: {hora_top}:00 ({tipo_top})\")\n",
    "print(f\" Total vendido: {ventas_top:,.2f} ({porcentaje_top:.2f}% del total)\\n\")\n",
    "\n",
    "# Ventas totales por hora\n",
    "ventas_por_hora = (\n",
    "    sales.groupby('SaleHour', as_index=False)['TotalPriceCalculated']\n",
    "         .sum()\n",
    "         .sort_values('TotalPriceCalculated', ascending=False)\n",
    ")\n"
   ]
  },
  {
   "cell_type": "code",
   "execution_count": 35,
   "id": "d9f333bd",
   "metadata": {},
   "outputs": [
    {
     "data": {
      "image/png": "[encoded data removed]",
      "text/plain": [
       "<Figure size 1000x500 with 1 Axes>"
      ]
     },
     "metadata": {},
     "output_type": "display_data"
    }
   ],
   "source": [
    "# Gráfico de ventas por hora \n",
    "plt.figure(figsize=(10,5))\n",
    "plt.bar(ventas_por_hora['SaleHour'], ventas_por_hora['TotalPriceCalculated'], color=\"#4A90E2\")\n",
    "plt.title(\"Distribución de ventas por hora del día\", fontsize=13)\n",
    "plt.xlabel(\"Hora del día\")\n",
    "plt.ylabel(\"Ventas totales (TotalPriceCalculated)\")\n",
    "plt.xticks(range(0,24))\n",
    "plt.grid(axis='y', linestyle='--', alpha=0.6)\n",
    "plt.tight_layout()\n",
    "plt.show()"
   ]
  },
  {
   "cell_type": "markdown",
   "id": "f00a4998",
   "metadata": {},
   "source": [
    "#### ¿La empresa vende más durante los días de semana o en el fin de semana? Clasifica cada venta como Entre semana o Fin de semana a partir de SalesDate y compara el total de ventas entre ambos grupos. ¿En cuál se vende más? ####"
   ]
  },
  {
   "cell_type": "code",
   "execution_count": 37,
   "id": "e7ecf6eb",
   "metadata": {},
   "outputs": [
    {
     "data": {
      "image/png": "[encoded data removed]",
      "text/plain": [
       "<Figure size 600x400 with 1 Axes>"
      ]
     },
     "metadata": {},
     "output_type": "display_data"
    }
   ],
   "source": [
    "# Comparativa entre semana vs fin de semana \n",
    "ventas_por_tipo = sales.groupby('TipoDia', as_index=False)['TotalPriceCalculated'].sum()\n",
    "\n",
    "plt.figure(figsize=(6,4))\n",
    "plt.bar(ventas_por_tipo['TipoDia'], ventas_por_tipo['TotalPriceCalculated'], color=['#4CAF50', '#2196F3'])\n",
    "plt.title('Comparativa de ventas: Entre semana vs Fin de semana', fontsize=13)\n",
    "plt.ylabel('Ventas totales (TotalPriceCalculated)')\n",
    "plt.grid(axis='y', linestyle='--', alpha=0.6)\n",
    "plt.tight_layout()\n",
    "plt.show()"
   ]
  },
  {
   "cell_type": "markdown",
   "id": "9f092591",
   "metadata": {},
   "source": [
    "# Trabajo en DataFrame"
   ]
  },
  {
   "cell_type": "markdown",
   "id": "7794eb38",
   "metadata": {},
   "source": [
    "#### Como parte del proceso de feature engineering, en el mismo DataFrame en el que vienes trabajando, calcula dos nuevas columnas en el dataset de ventas: (1) La edad del empleado al momento de su contratación y (2) años de experiencia al momento de realizar cada venta. Utiliza las columnas BirthDate, HireDate (de la tabla employees) y SalesDate (de la tabla sales). Asegúrate de trabajar con fechas en formato adecuado. ####"
   ]
  },
  {
   "cell_type": "code",
   "execution_count": 52,
   "id": "2b2d3476",
   "metadata": {},
   "outputs": [],
   "source": [
    "# Asegurar que las columnas de fechas sean datetime (Ya fue realizado anteriormente en Limpieza de datos )\n",
    "employees['BirthDate'] = pd.to_datetime(employees['BirthDate'], errors='coerce')\n",
    "employees['HireDate'] = pd.to_datetime(employees['HireDate'], errors='coerce')\n",
    "sales['SalesDate'] = pd.to_datetime(sales['SalesDate'], errors='coerce')"
   ]
  },
  {
   "cell_type": "markdown",
   "id": "9d17aa5c",
   "metadata": {},
   "source": [
    "#### Creamos un nuevo DataFrame sales_emp que tiene las fechas de nacimiento y contratación de cada empleado junto con la fecha de la venta. ####"
   ]
  },
  {
   "cell_type": "code",
   "execution_count": 55,
   "id": "88955b39",
   "metadata": {},
   "outputs": [],
   "source": [
    "# Unir sales con employees\n",
    "sales_emp = pd.merge(sales, employees[['EmployeeID', 'BirthDate', 'HireDate']], \n",
    "                     on='EmployeeID', how='left')"
   ]
  },
  {
   "cell_type": "code",
   "execution_count": 40,
   "id": "b0f69dbb",
   "metadata": {},
   "outputs": [
    {
     "data": {
      "text/html": [
       "<div>\n",
       "<style scoped>\n",
       "    .dataframe tbody tr th:only-of-type {\n",
       "        vertical-align: middle;\n",
       "    }\n",
       "\n",
       "    .dataframe tbody tr th {\n",
       "        vertical-align: top;\n",
       "    }\n",
       "\n",
       "    .dataframe thead th {\n",
       "        text-align: right;\n",
       "    }\n",
       "</style>\n",
       "<table border=\"1\" class=\"dataframe\">\n",
       "  <thead>\n",
       "    <tr style=\"text-align: right;\">\n",
       "      <th></th>\n",
       "      <th>SalesID</th>\n",
       "      <th>EmployeeID</th>\n",
       "      <th>CustomerID</th>\n",
       "      <th>ProductID</th>\n",
       "      <th>Quantity</th>\n",
       "      <th>Discount</th>\n",
       "      <th>TotalPrice</th>\n",
       "      <th>SalesDate</th>\n",
       "      <th>TransactionNumber</th>\n",
       "      <th>Price</th>\n",
       "      <th>TotalPriceCalculated</th>\n",
       "      <th>IsOutlier</th>\n",
       "      <th>SaleHour</th>\n",
       "      <th>TipoDia</th>\n",
       "      <th>BirthDate</th>\n",
       "      <th>HireDate</th>\n",
       "    </tr>\n",
       "  </thead>\n",
       "  <tbody>\n",
       "    <tr>\n",
       "      <th>0</th>\n",
       "      <td>1</td>\n",
       "      <td>6</td>\n",
       "      <td>27039</td>\n",
       "      <td>381</td>\n",
       "      <td>7</td>\n",
       "      <td>0.0</td>\n",
       "      <td>0.0</td>\n",
       "      <td>2018-02-05 07:38:25.430</td>\n",
       "      <td>FQL4S94E4ME1EZFTG42G</td>\n",
       "      <td>44.2337</td>\n",
       "      <td>309.63590</td>\n",
       "      <td>0</td>\n",
       "      <td>7.0</td>\n",
       "      <td>Entre semana</td>\n",
       "      <td>1987-01-13</td>\n",
       "      <td>2013-06-22 13:20:18.080</td>\n",
       "    </tr>\n",
       "    <tr>\n",
       "      <th>1</th>\n",
       "      <td>2</td>\n",
       "      <td>16</td>\n",
       "      <td>25011</td>\n",
       "      <td>61</td>\n",
       "      <td>7</td>\n",
       "      <td>0.0</td>\n",
       "      <td>0.0</td>\n",
       "      <td>2018-02-02 16:03:31.150</td>\n",
       "      <td>12UGLX40DJ1A5DTFBHB8</td>\n",
       "      <td>62.5460</td>\n",
       "      <td>437.82200</td>\n",
       "      <td>0</td>\n",
       "      <td>16.0</td>\n",
       "      <td>Entre semana</td>\n",
       "      <td>1951-07-07</td>\n",
       "      <td>2017-02-10 11:21:26.650</td>\n",
       "    </tr>\n",
       "    <tr>\n",
       "      <th>2</th>\n",
       "      <td>3</td>\n",
       "      <td>13</td>\n",
       "      <td>94024</td>\n",
       "      <td>23</td>\n",
       "      <td>24</td>\n",
       "      <td>0.0</td>\n",
       "      <td>0.0</td>\n",
       "      <td>2018-05-03 19:31:56.880</td>\n",
       "      <td>5DT8RCPL87KI5EORO7B0</td>\n",
       "      <td>79.0184</td>\n",
       "      <td>1896.44160</td>\n",
       "      <td>0</td>\n",
       "      <td>19.0</td>\n",
       "      <td>Entre semana</td>\n",
       "      <td>1963-04-18</td>\n",
       "      <td>2011-12-12 10:43:52.940</td>\n",
       "    </tr>\n",
       "    <tr>\n",
       "      <th>3</th>\n",
       "      <td>4</td>\n",
       "      <td>8</td>\n",
       "      <td>73966</td>\n",
       "      <td>176</td>\n",
       "      <td>19</td>\n",
       "      <td>0.2</td>\n",
       "      <td>0.0</td>\n",
       "      <td>2018-04-07 14:43:55.420</td>\n",
       "      <td>R3DR9MLD5NR76VO17ULE</td>\n",
       "      <td>81.3167</td>\n",
       "      <td>1236.01384</td>\n",
       "      <td>0</td>\n",
       "      <td>14.0</td>\n",
       "      <td>Fin de semana</td>\n",
       "      <td>1956-12-13</td>\n",
       "      <td>2014-10-14 23:12:53.420</td>\n",
       "    </tr>\n",
       "    <tr>\n",
       "      <th>4</th>\n",
       "      <td>5</td>\n",
       "      <td>10</td>\n",
       "      <td>32653</td>\n",
       "      <td>310</td>\n",
       "      <td>9</td>\n",
       "      <td>0.0</td>\n",
       "      <td>0.0</td>\n",
       "      <td>2018-02-12 15:37:03.940</td>\n",
       "      <td>4BGS0Z5OMAZ8NDAFHHP3</td>\n",
       "      <td>79.9780</td>\n",
       "      <td>719.80200</td>\n",
       "      <td>0</td>\n",
       "      <td>15.0</td>\n",
       "      <td>Entre semana</td>\n",
       "      <td>1963-12-30</td>\n",
       "      <td>2012-07-23 15:02:12.640</td>\n",
       "    </tr>\n",
       "  </tbody>\n",
       "</table>\n",
       "</div>"
      ],
      "text/plain": [
       "   SalesID  EmployeeID  CustomerID  ProductID  Quantity  Discount  TotalPrice  \\\n",
       "0        1           6       27039        381         7       0.0         0.0   \n",
       "1        2          16       25011         61         7       0.0         0.0   \n",
       "2        3          13       94024         23        24       0.0         0.0   \n",
       "3        4           8       73966        176        19       0.2         0.0   \n",
       "4        5          10       32653        310         9       0.0         0.0   \n",
       "\n",
       "                SalesDate     TransactionNumber    Price  \\\n",
       "0 2018-02-05 07:38:25.430  FQL4S94E4ME1EZFTG42G  44.2337   \n",
       "1 2018-02-02 16:03:31.150  12UGLX40DJ1A5DTFBHB8  62.5460   \n",
       "2 2018-05-03 19:31:56.880  5DT8RCPL87KI5EORO7B0  79.0184   \n",
       "3 2018-04-07 14:43:55.420  R3DR9MLD5NR76VO17ULE  81.3167   \n",
       "4 2018-02-12 15:37:03.940  4BGS0Z5OMAZ8NDAFHHP3  79.9780   \n",
       "\n",
       "   TotalPriceCalculated  IsOutlier  SaleHour        TipoDia  BirthDate  \\\n",
       "0             309.63590          0       7.0   Entre semana 1987-01-13   \n",
       "1             437.82200          0      16.0   Entre semana 1951-07-07   \n",
       "2            1896.44160          0      19.0   Entre semana 1963-04-18   \n",
       "3            1236.01384          0      14.0  Fin de semana 1956-12-13   \n",
       "4             719.80200          0      15.0   Entre semana 1963-12-30   \n",
       "\n",
       "                 HireDate  \n",
       "0 2013-06-22 13:20:18.080  \n",
       "1 2017-02-10 11:21:26.650  \n",
       "2 2011-12-12 10:43:52.940  \n",
       "3 2014-10-14 23:12:53.420  \n",
       "4 2012-07-23 15:02:12.640  "
      ]
     },
     "execution_count": 40,
     "metadata": {},
     "output_type": "execute_result"
    }
   ],
   "source": [
    "sales_emp.head()"
   ]
  },
  {
   "cell_type": "markdown",
   "id": "f41f8909",
   "metadata": {},
   "source": [
    "## Trabajo en DataFrame ##"
   ]
  },
  {
   "cell_type": "markdown",
   "id": "b169d67d",
   "metadata": {},
   "source": [
    " #### Como parte del proceso de feature engineering, en el mismo DataFrame en el que vienes trabajando, calcula dos nuevas columnas en el dataset de ventas: (1) La edad del empleado al momento de su contratación y (2) años de experiencia al momento de realizar cada venta. Utiliza las columnas BirthDate, HireDate (de la tabla employees) y SalesDate (de la tabla sales). Asegúrate de trabajar con fechas en formato adecuado. ####"
   ]
  },
  {
   "cell_type": "code",
   "execution_count": 58,
   "id": "1a92ddd5",
   "metadata": {},
   "outputs": [],
   "source": [
    "# Calcular edad al momento de contratación\n",
    "sales_emp['EdadAlContratar'] = (sales_emp['HireDate'] - sales_emp['BirthDate']).dt.days / 365.25\n",
    "\n",
    "# Calcular años de experiencia al momento de la venta\n",
    "sales_emp['AniosExperiencia'] = (sales_emp['SalesDate'] - sales_emp['HireDate']).dt.days / 365.25"
   ]
  },
  {
   "cell_type": "code",
   "execution_count": 59,
   "id": "c1a50428",
   "metadata": {},
   "outputs": [
    {
     "data": {
      "text/html": [
       "<div>\n",
       "<style scoped>\n",
       "    .dataframe tbody tr th:only-of-type {\n",
       "        vertical-align: middle;\n",
       "    }\n",
       "\n",
       "    .dataframe tbody tr th {\n",
       "        vertical-align: top;\n",
       "    }\n",
       "\n",
       "    .dataframe thead th {\n",
       "        text-align: right;\n",
       "    }\n",
       "</style>\n",
       "<table border=\"1\" class=\"dataframe\">\n",
       "  <thead>\n",
       "    <tr style=\"text-align: right;\">\n",
       "      <th></th>\n",
       "      <th>EmployeeID</th>\n",
       "      <th>BirthDate</th>\n",
       "      <th>HireDate</th>\n",
       "      <th>SalesDate</th>\n",
       "      <th>EdadAlContratar</th>\n",
       "      <th>AniosExperiencia</th>\n",
       "    </tr>\n",
       "  </thead>\n",
       "  <tbody>\n",
       "    <tr>\n",
       "      <th>0</th>\n",
       "      <td>6</td>\n",
       "      <td>1987-01-13</td>\n",
       "      <td>2013-06-22 13:20:18.080</td>\n",
       "      <td>2018-02-05 07:38:25.430</td>\n",
       "      <td>26.439425</td>\n",
       "      <td>4.621492</td>\n",
       "    </tr>\n",
       "    <tr>\n",
       "      <th>1</th>\n",
       "      <td>16</td>\n",
       "      <td>1951-07-07</td>\n",
       "      <td>2017-02-10 11:21:26.650</td>\n",
       "      <td>2018-02-02 16:03:31.150</td>\n",
       "      <td>65.598905</td>\n",
       "      <td>0.977413</td>\n",
       "    </tr>\n",
       "    <tr>\n",
       "      <th>2</th>\n",
       "      <td>13</td>\n",
       "      <td>1963-04-18</td>\n",
       "      <td>2011-12-12 10:43:52.940</td>\n",
       "      <td>2018-05-03 19:31:56.880</td>\n",
       "      <td>48.651608</td>\n",
       "      <td>6.390144</td>\n",
       "    </tr>\n",
       "    <tr>\n",
       "      <th>3</th>\n",
       "      <td>8</td>\n",
       "      <td>1956-12-13</td>\n",
       "      <td>2014-10-14 23:12:53.420</td>\n",
       "      <td>2018-04-07 14:43:55.420</td>\n",
       "      <td>57.834360</td>\n",
       "      <td>3.477070</td>\n",
       "    </tr>\n",
       "    <tr>\n",
       "      <th>4</th>\n",
       "      <td>10</td>\n",
       "      <td>1963-12-30</td>\n",
       "      <td>2012-07-23 15:02:12.640</td>\n",
       "      <td>2018-02-12 15:37:03.940</td>\n",
       "      <td>48.563997</td>\n",
       "      <td>5.557837</td>\n",
       "    </tr>\n",
       "    <tr>\n",
       "      <th>5</th>\n",
       "      <td>13</td>\n",
       "      <td>1963-04-18</td>\n",
       "      <td>2011-12-12 10:43:52.940</td>\n",
       "      <td>2018-02-07 10:33:24.990</td>\n",
       "      <td>48.651608</td>\n",
       "      <td>6.154689</td>\n",
       "    </tr>\n",
       "    <tr>\n",
       "      <th>6</th>\n",
       "      <td>14</td>\n",
       "      <td>1961-09-05</td>\n",
       "      <td>2016-07-11 00:57:58.340</td>\n",
       "      <td>2018-03-02 23:09:58.750</td>\n",
       "      <td>54.847365</td>\n",
       "      <td>1.639973</td>\n",
       "    </tr>\n",
       "    <tr>\n",
       "      <th>7</th>\n",
       "      <td>3</td>\n",
       "      <td>1963-02-09</td>\n",
       "      <td>2012-03-30 18:55:23.270</td>\n",
       "      <td>2018-01-17 13:41:38.460</td>\n",
       "      <td>49.136208</td>\n",
       "      <td>5.798768</td>\n",
       "    </tr>\n",
       "    <tr>\n",
       "      <th>8</th>\n",
       "      <td>16</td>\n",
       "      <td>1951-07-07</td>\n",
       "      <td>2017-02-10 11:21:26.650</td>\n",
       "      <td>2018-04-27 06:19:58.570</td>\n",
       "      <td>65.598905</td>\n",
       "      <td>1.204654</td>\n",
       "    </tr>\n",
       "    <tr>\n",
       "      <th>9</th>\n",
       "      <td>22</td>\n",
       "      <td>1952-03-02</td>\n",
       "      <td>2015-11-25 18:18:23.480</td>\n",
       "      <td>2018-03-26 22:12:08.530</td>\n",
       "      <td>63.731691</td>\n",
       "      <td>2.332649</td>\n",
       "    </tr>\n",
       "  </tbody>\n",
       "</table>\n",
       "</div>"
      ],
      "text/plain": [
       "   EmployeeID  BirthDate                HireDate               SalesDate  \\\n",
       "0           6 1987-01-13 2013-06-22 13:20:18.080 2018-02-05 07:38:25.430   \n",
       "1          16 1951-07-07 2017-02-10 11:21:26.650 2018-02-02 16:03:31.150   \n",
       "2          13 1963-04-18 2011-12-12 10:43:52.940 2018-05-03 19:31:56.880   \n",
       "3           8 1956-12-13 2014-10-14 23:12:53.420 2018-04-07 14:43:55.420   \n",
       "4          10 1963-12-30 2012-07-23 15:02:12.640 2018-02-12 15:37:03.940   \n",
       "5          13 1963-04-18 2011-12-12 10:43:52.940 2018-02-07 10:33:24.990   \n",
       "6          14 1961-09-05 2016-07-11 00:57:58.340 2018-03-02 23:09:58.750   \n",
       "7           3 1963-02-09 2012-03-30 18:55:23.270 2018-01-17 13:41:38.460   \n",
       "8          16 1951-07-07 2017-02-10 11:21:26.650 2018-04-27 06:19:58.570   \n",
       "9          22 1952-03-02 2015-11-25 18:18:23.480 2018-03-26 22:12:08.530   \n",
       "\n",
       "   EdadAlContratar  AniosExperiencia  \n",
       "0        26.439425          4.621492  \n",
       "1        65.598905          0.977413  \n",
       "2        48.651608          6.390144  \n",
       "3        57.834360          3.477070  \n",
       "4        48.563997          5.557837  \n",
       "5        48.651608          6.154689  \n",
       "6        54.847365          1.639973  \n",
       "7        49.136208          5.798768  \n",
       "8        65.598905          1.204654  \n",
       "9        63.731691          2.332649  "
      ]
     },
     "execution_count": 59,
     "metadata": {},
     "output_type": "execute_result"
    }
   ],
   "source": [
    "sales_emp[['EmployeeID', 'BirthDate', 'HireDate', 'SalesDate', 'EdadAlContratar', 'AniosExperiencia']].head(10)"
   ]
  },
  {
   "cell_type": "code",
   "execution_count": 60,
   "id": "3cb4bf5d",
   "metadata": {},
   "outputs": [
    {
     "name": "stdout",
     "output_type": "stream",
     "text": [
      " - Estadísticas de Edad al Contratar:\n",
      "count    6.758125e+06\n",
      "mean     4.571585e+01\n",
      "std      1.194729e+01\n",
      "min      2.086516e+01\n",
      "25%      4.057221e+01\n",
      "50%      4.856400e+01\n",
      "75%      5.484736e+01\n",
      "max      6.559890e+01\n",
      "Name: EdadAlContratar, dtype: float64\n",
      "\n",
      "- Estadísticas de Años de Experiencia:\n",
      "count    6.690599e+06\n",
      "mean     4.550142e+00\n",
      "std      2.136773e+00\n",
      "min      8.870637e-01\n",
      "25%      2.362765e+00\n",
      "50%      4.700890e+00\n",
      "75%      6.327173e+00\n",
      "max      8.208077e+00\n",
      "Name: AniosExperiencia, dtype: float64\n"
     ]
    }
   ],
   "source": [
    "print(\" - Estadísticas de Edad al Contratar:\")\n",
    "print(sales_emp['EdadAlContratar'].describe())\n",
    "\n",
    "print(\"\\n- Estadísticas de Años de Experiencia:\")\n",
    "print(sales_emp['AniosExperiencia'].describe())"
   ]
  },
  {
   "cell_type": "code",
   "execution_count": 46,
   "id": "88fc78af",
   "metadata": {},
   "outputs": [
    {
     "data": {
      "image/png": "[encoded data removed]",
      "text/plain": [
       "<Figure size 1000x400 with 2 Axes>"
      ]
     },
     "metadata": {},
     "output_type": "display_data"
    }
   ],
   "source": [
    "plt.figure(figsize=(10,4))\n",
    "plt.subplot(1,2,1)\n",
    "sales_emp['EdadAlContratar'].hist(bins=20)\n",
    "plt.title('Distribución - Edad al Contratar')\n",
    "plt.xlabel('Edad (años)')\n",
    "\n",
    "plt.subplot(1,2,2)\n",
    "sales_emp['AniosExperiencia'].hist(bins=20)\n",
    "plt.title('Distribución - Años de Experiencia')\n",
    "plt.xlabel('Años')\n",
    "plt.tight_layout()\n",
    "plt.show()"
   ]
  },
  {
   "cell_type": "markdown",
   "id": "14e6d054",
   "metadata": {},
   "source": [
    " ## Dataset "
   ]
  },
  {
   "cell_type": "markdown",
   "id": "626a78a2",
   "metadata": {},
   "source": [
    "#### Prepara un único dataset definitivo para modelado que combine información relevante de las tablas disponibles. Incluye las features que se han calculado previamente. Aplica transformaciones adecuadas a las variables categóricas y a las variables numéricas (si lo consideras necesario) para dejar los datos listos para ser utilizados por un modelo de machine learning. Justifica las transformaciones realizadas.La(opens in a new tab) variable objetivo es TotalPriceCalculated, por lo que debe quedar sin transformaciones."
   ]
  },
  {
   "cell_type": "markdown",
   "id": "bdce6b46",
   "metadata": {},
   "source": [
    "#### Solo consideramos las columnas mas importantes de cada tabla"
   ]
  },
  {
   "cell_type": "code",
   "execution_count": 61,
   "id": "e809e6ff",
   "metadata": {},
   "outputs": [
    {
     "name": "stdout",
     "output_type": "stream",
     "text": [
      "(6758125, 26)\n"
     ]
    },
    {
     "data": {
      "text/html": [
       "<div>\n",
       "<style scoped>\n",
       "    .dataframe tbody tr th:only-of-type {\n",
       "        vertical-align: middle;\n",
       "    }\n",
       "\n",
       "    .dataframe tbody tr th {\n",
       "        vertical-align: top;\n",
       "    }\n",
       "\n",
       "    .dataframe thead th {\n",
       "        text-align: right;\n",
       "    }\n",
       "</style>\n",
       "<table border=\"1\" class=\"dataframe\">\n",
       "  <thead>\n",
       "    <tr style=\"text-align: right;\">\n",
       "      <th></th>\n",
       "      <th>SalesID</th>\n",
       "      <th>EmployeeID</th>\n",
       "      <th>CustomerID</th>\n",
       "      <th>ProductID</th>\n",
       "      <th>Quantity</th>\n",
       "      <th>Discount</th>\n",
       "      <th>TotalPrice</th>\n",
       "      <th>SalesDate</th>\n",
       "      <th>TransactionNumber</th>\n",
       "      <th>Price_x</th>\n",
       "      <th>...</th>\n",
       "      <th>Price_y</th>\n",
       "      <th>CategoryID</th>\n",
       "      <th>Class</th>\n",
       "      <th>Resistant</th>\n",
       "      <th>IsAllergic</th>\n",
       "      <th>CategoryName</th>\n",
       "      <th>CityID</th>\n",
       "      <th>CityName</th>\n",
       "      <th>CountryID</th>\n",
       "      <th>CountryName</th>\n",
       "    </tr>\n",
       "  </thead>\n",
       "  <tbody>\n",
       "    <tr>\n",
       "      <th>0</th>\n",
       "      <td>1</td>\n",
       "      <td>6</td>\n",
       "      <td>27039</td>\n",
       "      <td>381</td>\n",
       "      <td>7</td>\n",
       "      <td>0.0</td>\n",
       "      <td>0.0</td>\n",
       "      <td>2018-02-05 07:38:25.430</td>\n",
       "      <td>FQL4S94E4ME1EZFTG42G</td>\n",
       "      <td>44.2337</td>\n",
       "      <td>...</td>\n",
       "      <td>44.2337</td>\n",
       "      <td>1.0</td>\n",
       "      <td>High</td>\n",
       "      <td>Unknown</td>\n",
       "      <td>Unknown</td>\n",
       "      <td>Confections</td>\n",
       "      <td>54</td>\n",
       "      <td>Albuquerque</td>\n",
       "      <td>32</td>\n",
       "      <td>United States</td>\n",
       "    </tr>\n",
       "    <tr>\n",
       "      <th>1</th>\n",
       "      <td>2</td>\n",
       "      <td>16</td>\n",
       "      <td>25011</td>\n",
       "      <td>61</td>\n",
       "      <td>7</td>\n",
       "      <td>0.0</td>\n",
       "      <td>0.0</td>\n",
       "      <td>2018-02-02 16:03:31.150</td>\n",
       "      <td>12UGLX40DJ1A5DTFBHB8</td>\n",
       "      <td>62.5460</td>\n",
       "      <td>...</td>\n",
       "      <td>62.5460</td>\n",
       "      <td>8.0</td>\n",
       "      <td>Low</td>\n",
       "      <td>Durable</td>\n",
       "      <td>FALSE</td>\n",
       "      <td>Grain</td>\n",
       "      <td>71</td>\n",
       "      <td>Phoenix</td>\n",
       "      <td>32</td>\n",
       "      <td>United States</td>\n",
       "    </tr>\n",
       "    <tr>\n",
       "      <th>2</th>\n",
       "      <td>3</td>\n",
       "      <td>13</td>\n",
       "      <td>94024</td>\n",
       "      <td>23</td>\n",
       "      <td>24</td>\n",
       "      <td>0.0</td>\n",
       "      <td>0.0</td>\n",
       "      <td>2018-05-03 19:31:56.880</td>\n",
       "      <td>5DT8RCPL87KI5EORO7B0</td>\n",
       "      <td>79.0184</td>\n",
       "      <td>...</td>\n",
       "      <td>79.0184</td>\n",
       "      <td>11.0</td>\n",
       "      <td>Medium</td>\n",
       "      <td>Durable</td>\n",
       "      <td>TRUE</td>\n",
       "      <td>Produce</td>\n",
       "      <td>2</td>\n",
       "      <td>Buffalo</td>\n",
       "      <td>32</td>\n",
       "      <td>United States</td>\n",
       "    </tr>\n",
       "  </tbody>\n",
       "</table>\n",
       "<p>3 rows × 26 columns</p>\n",
       "</div>"
      ],
      "text/plain": [
       "   SalesID  EmployeeID  CustomerID  ProductID  Quantity  Discount  TotalPrice  \\\n",
       "0        1           6       27039        381         7       0.0         0.0   \n",
       "1        2          16       25011         61         7       0.0         0.0   \n",
       "2        3          13       94024         23        24       0.0         0.0   \n",
       "\n",
       "                SalesDate     TransactionNumber  Price_x  ...  Price_y  \\\n",
       "0 2018-02-05 07:38:25.430  FQL4S94E4ME1EZFTG42G  44.2337  ...  44.2337   \n",
       "1 2018-02-02 16:03:31.150  12UGLX40DJ1A5DTFBHB8  62.5460  ...  62.5460   \n",
       "2 2018-05-03 19:31:56.880  5DT8RCPL87KI5EORO7B0  79.0184  ...  79.0184   \n",
       "\n",
       "  CategoryID   Class  Resistant  IsAllergic CategoryName  CityID     CityName  \\\n",
       "0        1.0    High    Unknown     Unknown  Confections      54  Albuquerque   \n",
       "1        8.0     Low    Durable       FALSE        Grain      71      Phoenix   \n",
       "2       11.0  Medium    Durable        TRUE      Produce       2      Buffalo   \n",
       "\n",
       "  CountryID    CountryName  \n",
       "0        32  United States  \n",
       "1        32  United States  \n",
       "2        32  United States  \n",
       "\n",
       "[3 rows x 26 columns]"
      ]
     },
     "execution_count": 61,
     "metadata": {},
     "output_type": "execute_result"
    }
   ],
   "source": [
    "# Merge con products \n",
    "final_df = pd.merge(sales_emp, products[['ProductID', 'ProductName', 'Price', 'CategoryID', 'Class', 'Resistant', 'IsAllergic']],\n",
    "                    on='ProductID', how='left')\n",
    "\n",
    "# Merge con categories \n",
    "final_df = pd.merge(final_df, categories[['CategoryID', 'CategoryName']], \n",
    "                    on='CategoryID', how='left')\n",
    "\n",
    "# Merge con customers \n",
    "final_df = pd.merge(final_df, customers[['CustomerID', 'CityID']], \n",
    "                    on='CustomerID', how='left')\n",
    "\n",
    "# Merge con cities \n",
    "final_df = pd.merge(final_df, cities[['CityID', 'CityName', 'CountryID']], \n",
    "                    on='CityID', how='left')\n",
    "\n",
    "# Merge con countries \n",
    "final_df = pd.merge(final_df, countries[['CountryID', 'CountryName']], \n",
    "                    on='CountryID', how='left')\n",
    "\n",
    "# Resultado\n",
    "print(final_df.shape)\n",
    "final_df.head(3)\n"
   ]
  },
  {
   "cell_type": "markdown",
   "id": "64871d88",
   "metadata": {},
   "source": [
    "#### Variables categóricas (texto)"
   ]
  },
  {
   "cell_type": "markdown",
   "id": "b8420285",
   "metadata": {},
   "source": [
    "#### Identificar variables categóricas"
   ]
  },
  {
   "cell_type": "code",
   "execution_count": null,
   "id": "60906f53",
   "metadata": {},
   "outputs": [
    {
     "data": {
      "text/plain": [
       "['TransactionNumber',\n",
       " 'ProductName',\n",
       " 'Class',\n",
       " 'Resistant',\n",
       " 'IsAllergic',\n",
       " 'CategoryName',\n",
       " 'CityName',\n",
       " 'CountryName']"
      ]
     },
     "execution_count": 62,
     "metadata": {},
     "output_type": "execute_result"
    }
   ],
   "source": [
    "cat_cols = final_df.select_dtypes(include='object').columns.tolist()\n",
    "cat_cols"
   ]
  },
  {
   "cell_type": "markdown",
   "id": "1e75610c",
   "metadata": {},
   "source": [
    "#### Aplicamos One-Hot Encoding"
   ]
  },
  {
   "cell_type": "code",
   "execution_count": 63,
   "id": "26f20e5b",
   "metadata": {},
   "outputs": [
    {
     "ename": "MemoryError",
     "evalue": "Unable to allocate 41.5 TiB for an array with shape (6758125, 6758125) and data type bool",
     "output_type": "error",
     "traceback": [
      "\u001b[31m---------------------------------------------------------------------------\u001b[39m",
      "\u001b[31mMemoryError\u001b[39m                               Traceback (most recent call last)",
      "\u001b[36mCell\u001b[39m\u001b[36m \u001b[39m\u001b[32mIn[63]\u001b[39m\u001b[32m, line 1\u001b[39m\n\u001b[32m----> \u001b[39m\u001b[32m1\u001b[39m final_encoded = \u001b[43mpd\u001b[49m\u001b[43m.\u001b[49m\u001b[43mget_dummies\u001b[49m\u001b[43m(\u001b[49m\u001b[43mfinal_df\u001b[49m\u001b[43m,\u001b[49m\u001b[43m \u001b[49m\u001b[43mcolumns\u001b[49m\u001b[43m=\u001b[49m\u001b[43mcat_cols\u001b[49m\u001b[43m,\u001b[49m\u001b[43m \u001b[49m\u001b[43mdrop_first\u001b[49m\u001b[43m=\u001b[49m\u001b[38;5;28;43;01mTrue\u001b[39;49;00m\u001b[43m)\u001b[49m\n\u001b[32m      3\u001b[39m \u001b[38;5;28mprint\u001b[39m(\u001b[33m\"\u001b[39m\u001b[33mShape final:\u001b[39m\u001b[33m\"\u001b[39m, final_encoded.shape)\n\u001b[32m      4\u001b[39m final_encoded.head(\u001b[32m3\u001b[39m)\n",
      "\u001b[36mFile \u001b[39m\u001b[32mc:\\Users\\Mi Pc\\Documents\\DATA-ENGINEERING-PROYECTO1\\.venv\\Lib\\site-packages\\pandas\\core\\reshape\\encoding.py:215\u001b[39m, in \u001b[36mget_dummies\u001b[39m\u001b[34m(data, prefix, prefix_sep, dummy_na, columns, sparse, drop_first, dtype)\u001b[39m\n\u001b[32m    211\u001b[39m     with_dummies = [data.select_dtypes(exclude=dtypes_to_encode)]\n\u001b[32m    213\u001b[39m \u001b[38;5;28;01mfor\u001b[39;00m col, pre, sep \u001b[38;5;129;01min\u001b[39;00m \u001b[38;5;28mzip\u001b[39m(data_to_encode.items(), prefix, prefix_sep):\n\u001b[32m    214\u001b[39m     \u001b[38;5;66;03m# col is (column_name, column), use just column data here\u001b[39;00m\n\u001b[32m--> \u001b[39m\u001b[32m215\u001b[39m     dummy = \u001b[43m_get_dummies_1d\u001b[49m\u001b[43m(\u001b[49m\n\u001b[32m    216\u001b[39m \u001b[43m        \u001b[49m\u001b[43mcol\u001b[49m\u001b[43m[\u001b[49m\u001b[32;43m1\u001b[39;49m\u001b[43m]\u001b[49m\u001b[43m,\u001b[49m\n\u001b[32m    217\u001b[39m \u001b[43m        \u001b[49m\u001b[43mprefix\u001b[49m\u001b[43m=\u001b[49m\u001b[43mpre\u001b[49m\u001b[43m,\u001b[49m\n\u001b[32m    218\u001b[39m \u001b[43m        \u001b[49m\u001b[43mprefix_sep\u001b[49m\u001b[43m=\u001b[49m\u001b[43msep\u001b[49m\u001b[43m,\u001b[49m\n\u001b[32m    219\u001b[39m \u001b[43m        \u001b[49m\u001b[43mdummy_na\u001b[49m\u001b[43m=\u001b[49m\u001b[43mdummy_na\u001b[49m\u001b[43m,\u001b[49m\n\u001b[32m    220\u001b[39m \u001b[43m        \u001b[49m\u001b[43msparse\u001b[49m\u001b[43m=\u001b[49m\u001b[43msparse\u001b[49m\u001b[43m,\u001b[49m\n\u001b[32m    221\u001b[39m \u001b[43m        \u001b[49m\u001b[43mdrop_first\u001b[49m\u001b[43m=\u001b[49m\u001b[43mdrop_first\u001b[49m\u001b[43m,\u001b[49m\n\u001b[32m    222\u001b[39m \u001b[43m        \u001b[49m\u001b[43mdtype\u001b[49m\u001b[43m=\u001b[49m\u001b[43mdtype\u001b[49m\u001b[43m,\u001b[49m\n\u001b[32m    223\u001b[39m \u001b[43m    \u001b[49m\u001b[43m)\u001b[49m\n\u001b[32m    224\u001b[39m     with_dummies.append(dummy)\n\u001b[32m    225\u001b[39m result = concat(with_dummies, axis=\u001b[32m1\u001b[39m)\n",
      "\u001b[36mFile \u001b[39m\u001b[32mc:\\Users\\Mi Pc\\Documents\\DATA-ENGINEERING-PROYECTO1\\.venv\\Lib\\site-packages\\pandas\\core\\reshape\\encoding.py:354\u001b[39m, in \u001b[36m_get_dummies_1d\u001b[39m\u001b[34m(data, prefix, prefix_sep, dummy_na, sparse, drop_first, dtype)\u001b[39m\n\u001b[32m    352\u001b[39m \u001b[38;5;28;01melse\u001b[39;00m:\n\u001b[32m    353\u001b[39m     dummy_dtype = np.bool_\n\u001b[32m--> \u001b[39m\u001b[32m354\u001b[39m dummy_mat = \u001b[43mnp\u001b[49m\u001b[43m.\u001b[49m\u001b[43mzeros\u001b[49m\u001b[43m(\u001b[49m\u001b[43mshape\u001b[49m\u001b[43m=\u001b[49m\u001b[43mshape\u001b[49m\u001b[43m,\u001b[49m\u001b[43m \u001b[49m\u001b[43mdtype\u001b[49m\u001b[43m=\u001b[49m\u001b[43mdummy_dtype\u001b[49m\u001b[43m,\u001b[49m\u001b[43m \u001b[49m\u001b[43morder\u001b[49m\u001b[43m=\u001b[49m\u001b[33;43m\"\u001b[39;49m\u001b[33;43mF\u001b[39;49m\u001b[33;43m\"\u001b[39;49m\u001b[43m)\u001b[49m\n\u001b[32m    355\u001b[39m dummy_mat[np.arange(\u001b[38;5;28mlen\u001b[39m(codes)), codes] = \u001b[32m1\u001b[39m\n\u001b[32m    357\u001b[39m \u001b[38;5;28;01mif\u001b[39;00m \u001b[38;5;129;01mnot\u001b[39;00m dummy_na:\n\u001b[32m    358\u001b[39m     \u001b[38;5;66;03m# reset NaN GH4446\u001b[39;00m\n",
      "\u001b[31mMemoryError\u001b[39m: Unable to allocate 41.5 TiB for an array with shape (6758125, 6758125) and data type bool"
     ]
    }
   ],
   "source": [
    "final_encoded = pd.get_dummies(final_df, columns=cat_cols, drop_first=True)\n",
    "\n",
    "print(\"Shape final:\", final_encoded.shape)\n",
    "final_encoded.head(3)"
   ]
  }
 ],
 "metadata": {
  "kernelspec": {
   "display_name": ".venv (3.13.1)",
   "language": "python",
   "name": "python3"
  },
  "language_info": {
   "codemirror_mode": {
    "name": "ipython",
    "version": 3
   },
   "file_extension": ".py",
   "mimetype": "text/x-python",
   "name": "python",
   "nbconvert_exporter": "python",
   "pygments_lexer": "ipython3",
   "version": "3.13.1"
  }
 },
 "nbformat": 4,
 "nbformat_minor": 5
}
